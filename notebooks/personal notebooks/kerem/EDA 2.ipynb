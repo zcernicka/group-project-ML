{
 "cells": [
  {
   "cell_type": "code",
   "execution_count": 94,
   "metadata": {},
   "outputs": [],
   "source": [
    "import pandas as pd\n",
    "import seaborn as sns\n",
    "import matplotlib.pyplot as plt\n",
    "import math\n",
    "import statistics\n",
    "import numpy as np\n",
    "import scipy.stats"
   ]
  },
  {
   "cell_type": "code",
   "execution_count": 95,
   "metadata": {},
   "outputs": [],
   "source": [
    "df = pd.read_csv(r'C:\\Users\\kerem\\Documents\\Master\\Q 1\\DB Mgmt\\Artificial intelligence\\product3team9\\data\\cleaned\\funda_with_buurt.csv')"
   ]
  },
  {
   "cell_type": "code",
   "execution_count": 3,
   "metadata": {},
   "outputs": [
    {
     "data": {
      "text/html": [
       "<div>\n",
       "<style scoped>\n",
       "    .dataframe tbody tr th:only-of-type {\n",
       "        vertical-align: middle;\n",
       "    }\n",
       "\n",
       "    .dataframe tbody tr th {\n",
       "        vertical-align: top;\n",
       "    }\n",
       "\n",
       "    .dataframe thead th {\n",
       "        text-align: right;\n",
       "    }\n",
       "</style>\n",
       "<table border=\"1\" class=\"dataframe\">\n",
       "  <thead>\n",
       "    <tr style=\"text-align: right;\">\n",
       "      <th></th>\n",
       "      <th>globalId</th>\n",
       "      <th>publicatieDatum</th>\n",
       "      <th>postcode</th>\n",
       "      <th>koopPrijs</th>\n",
       "      <th>volledigeOmschrijving</th>\n",
       "      <th>categorieObject</th>\n",
       "      <th>indTuin</th>\n",
       "      <th>perceelOppervlakte</th>\n",
       "      <th>kantoor_naam_MD5hash</th>\n",
       "      <th>aantalKamers</th>\n",
       "      <th>...</th>\n",
       "      <th>energielabelKlasse</th>\n",
       "      <th>globalId.1</th>\n",
       "      <th>oppervlakte</th>\n",
       "      <th>datum_ondertekening</th>\n",
       "      <th>construction_year</th>\n",
       "      <th>house_type</th>\n",
       "      <th>postal_code</th>\n",
       "      <th>buurt</th>\n",
       "      <th>wijk</th>\n",
       "      <th>gemeente</th>\n",
       "    </tr>\n",
       "  </thead>\n",
       "  <tbody>\n",
       "    <tr>\n",
       "      <th>0</th>\n",
       "      <td>4388064</td>\n",
       "      <td>2018-07-31</td>\n",
       "      <td>1774PG</td>\n",
       "      <td>139000.0</td>\n",
       "      <td>Ruimte, vrijheid, en altijd het water en de we...</td>\n",
       "      <td>Woonhuis</td>\n",
       "      <td>1</td>\n",
       "      <td>NaN</td>\n",
       "      <td>09F114F5C5EC061F6230349892132149</td>\n",
       "      <td>3</td>\n",
       "      <td>...</td>\n",
       "      <td>NaN</td>\n",
       "      <td>4388064</td>\n",
       "      <td>62</td>\n",
       "      <td>2018-11-12</td>\n",
       "      <td>1971</td>\n",
       "      <td>woonboot, vrijstaande woning</td>\n",
       "      <td>NaN</td>\n",
       "      <td>NaN</td>\n",
       "      <td>NaN</td>\n",
       "      <td>NaN</td>\n",
       "    </tr>\n",
       "    <tr>\n",
       "      <th>1</th>\n",
       "      <td>4388200</td>\n",
       "      <td>2018-09-24</td>\n",
       "      <td>7481LK</td>\n",
       "      <td>209000.0</td>\n",
       "      <td>Verrassend ruime tussenwoning nabij het centru...</td>\n",
       "      <td>Woonhuis</td>\n",
       "      <td>1</td>\n",
       "      <td>148.0</td>\n",
       "      <td>6A91BF7DB06A8DF2C9A89064F28571E7</td>\n",
       "      <td>5</td>\n",
       "      <td>...</td>\n",
       "      <td>B</td>\n",
       "      <td>4388200</td>\n",
       "      <td>136</td>\n",
       "      <td>2018-08-30</td>\n",
       "      <td>1980</td>\n",
       "      <td>eengezinswoning, tussenwoning</td>\n",
       "      <td>7481LK</td>\n",
       "      <td>Haaksbergen Kern-1</td>\n",
       "      <td>Wijk 00 Haaksbergen (dorp)</td>\n",
       "      <td>Haaksbergen</td>\n",
       "    </tr>\n",
       "    <tr>\n",
       "      <th>2</th>\n",
       "      <td>4399344</td>\n",
       "      <td>2018-08-02</td>\n",
       "      <td>1068MS</td>\n",
       "      <td>267500.0</td>\n",
       "      <td>- ENGLISH TRANSLATION - \\n\\nOn the 21st of Sep...</td>\n",
       "      <td>Appartement</td>\n",
       "      <td>0</td>\n",
       "      <td>NaN</td>\n",
       "      <td>E983FEDC63D87BF61AE952D181C8FD17</td>\n",
       "      <td>3</td>\n",
       "      <td>...</td>\n",
       "      <td>NaN</td>\n",
       "      <td>4399344</td>\n",
       "      <td>70</td>\n",
       "      <td>2018-11-23</td>\n",
       "      <td>2001</td>\n",
       "      <td>tussenverdieping, appartement</td>\n",
       "      <td>1068MS</td>\n",
       "      <td>Calandlaan/Lelylaan</td>\n",
       "      <td>Osdorp-Oost</td>\n",
       "      <td>Amsterdam</td>\n",
       "    </tr>\n",
       "    <tr>\n",
       "      <th>3</th>\n",
       "      <td>4400638</td>\n",
       "      <td>2018-08-04</td>\n",
       "      <td>5628EN</td>\n",
       "      <td>349000.0</td>\n",
       "      <td>Wonen in een zeer royaal bemeten geschakelde 2...</td>\n",
       "      <td>Woonhuis</td>\n",
       "      <td>1</td>\n",
       "      <td>244.0</td>\n",
       "      <td>02BC26608B8B1A0888D3612AC7A5DB5C</td>\n",
       "      <td>5</td>\n",
       "      <td>...</td>\n",
       "      <td>NaN</td>\n",
       "      <td>4400638</td>\n",
       "      <td>144</td>\n",
       "      <td>2018-12-14</td>\n",
       "      <td>1973</td>\n",
       "      <td>eengezinswoning, geschakelde 2-onder-1-kapwoning</td>\n",
       "      <td>5628EN</td>\n",
       "      <td>Woenselse Heide</td>\n",
       "      <td>Wijk 15 Stadsdeel Woensel-Noord</td>\n",
       "      <td>Eindhoven</td>\n",
       "    </tr>\n",
       "    <tr>\n",
       "      <th>4</th>\n",
       "      <td>4401765</td>\n",
       "      <td>2018-08-05</td>\n",
       "      <td>7731TV</td>\n",
       "      <td>495000.0</td>\n",
       "      <td>Landgoed Junne is een eeuwenoud landgoed en li...</td>\n",
       "      <td>Woonhuis</td>\n",
       "      <td>0</td>\n",
       "      <td>4500.0</td>\n",
       "      <td>F56B2705CE24B8D78A68481ED1B276CB</td>\n",
       "      <td>8</td>\n",
       "      <td>...</td>\n",
       "      <td>NaN</td>\n",
       "      <td>4401765</td>\n",
       "      <td>323</td>\n",
       "      <td>2018-12-06</td>\n",
       "      <td>1900</td>\n",
       "      <td>woonboerderij, vrijstaande woning</td>\n",
       "      <td>7731TV</td>\n",
       "      <td>Buurtschap Junne</td>\n",
       "      <td>Ommen</td>\n",
       "      <td>Ommen</td>\n",
       "    </tr>\n",
       "    <tr>\n",
       "      <th>...</th>\n",
       "      <td>...</td>\n",
       "      <td>...</td>\n",
       "      <td>...</td>\n",
       "      <td>...</td>\n",
       "      <td>...</td>\n",
       "      <td>...</td>\n",
       "      <td>...</td>\n",
       "      <td>...</td>\n",
       "      <td>...</td>\n",
       "      <td>...</td>\n",
       "      <td>...</td>\n",
       "      <td>...</td>\n",
       "      <td>...</td>\n",
       "      <td>...</td>\n",
       "      <td>...</td>\n",
       "      <td>...</td>\n",
       "      <td>...</td>\n",
       "      <td>...</td>\n",
       "      <td>...</td>\n",
       "      <td>...</td>\n",
       "      <td>...</td>\n",
       "    </tr>\n",
       "    <tr>\n",
       "      <th>211612</th>\n",
       "      <td>4613507</td>\n",
       "      <td>2018-12-31</td>\n",
       "      <td>9791GD</td>\n",
       "      <td>159000.0</td>\n",
       "      <td>Ruime eengezinswoning aangeboden aan de rand v...</td>\n",
       "      <td>Woonhuis</td>\n",
       "      <td>1</td>\n",
       "      <td>195.0</td>\n",
       "      <td>AB928B88F4860C427BB7C6A27D6F2642</td>\n",
       "      <td>5</td>\n",
       "      <td>...</td>\n",
       "      <td>NaN</td>\n",
       "      <td>4613507</td>\n",
       "      <td>116</td>\n",
       "      <td>2019-03-07</td>\n",
       "      <td>1974</td>\n",
       "      <td>eengezinswoning, tussenwoning</td>\n",
       "      <td>9791GD</td>\n",
       "      <td>Ten Boer</td>\n",
       "      <td>Wijk 00 West</td>\n",
       "      <td>Ten Boer</td>\n",
       "    </tr>\n",
       "    <tr>\n",
       "      <th>211613</th>\n",
       "      <td>4613532</td>\n",
       "      <td>2018-12-31</td>\n",
       "      <td>6431GT</td>\n",
       "      <td>179000.0</td>\n",
       "      <td>Nabij centrum van Hoensbroek met al haar voorz...</td>\n",
       "      <td>Woonhuis</td>\n",
       "      <td>1</td>\n",
       "      <td>160.0</td>\n",
       "      <td>4271E4C370DF497EE3BB23B3AED3E292</td>\n",
       "      <td>4</td>\n",
       "      <td>...</td>\n",
       "      <td>NaN</td>\n",
       "      <td>4613532</td>\n",
       "      <td>84</td>\n",
       "      <td>2019-01-17</td>\n",
       "      <td>1995</td>\n",
       "      <td>eengezinswoning, geschakelde 2-onder-1-kapwoning</td>\n",
       "      <td>6431GT</td>\n",
       "      <td>De Dem en omgeving</td>\n",
       "      <td>Wijk 12 Hoensbroek-De Dem</td>\n",
       "      <td>Heerlen</td>\n",
       "    </tr>\n",
       "    <tr>\n",
       "      <th>211614</th>\n",
       "      <td>4613537</td>\n",
       "      <td>2018-12-31</td>\n",
       "      <td>4051EW</td>\n",
       "      <td>391500.0</td>\n",
       "      <td>Ook de kans aangrijpen om te mogen wonen in de...</td>\n",
       "      <td>Woonhuis</td>\n",
       "      <td>1</td>\n",
       "      <td>465.0</td>\n",
       "      <td>AB928B88F4860C427BB7C6A27D6F2642</td>\n",
       "      <td>5</td>\n",
       "      <td>...</td>\n",
       "      <td>NaN</td>\n",
       "      <td>4613537</td>\n",
       "      <td>99</td>\n",
       "      <td>2019-08-03</td>\n",
       "      <td>1948</td>\n",
       "      <td>bungalow, vrijstaande woning, semi-bungalo</td>\n",
       "      <td>4051EW</td>\n",
       "      <td>Ochten</td>\n",
       "      <td>Wijk 01 Echteld</td>\n",
       "      <td>Neder-Betuwe</td>\n",
       "    </tr>\n",
       "    <tr>\n",
       "      <th>211615</th>\n",
       "      <td>4613566</td>\n",
       "      <td>2018-12-31</td>\n",
       "      <td>4043GG</td>\n",
       "      <td>375000.0</td>\n",
       "      <td>BIEDEN VANAF € 375.000,= kosten koper\\nHet uit...</td>\n",
       "      <td>Woonhuis</td>\n",
       "      <td>1</td>\n",
       "      <td>300.0</td>\n",
       "      <td>59A3951B92EB2334DC7295CEEA0FB547</td>\n",
       "      <td>7</td>\n",
       "      <td>...</td>\n",
       "      <td>A</td>\n",
       "      <td>4613566</td>\n",
       "      <td>172</td>\n",
       "      <td>2019-04-08</td>\n",
       "      <td>2006</td>\n",
       "      <td>eengezinswoning, 2-onder-1-kapwoning</td>\n",
       "      <td>4043GG</td>\n",
       "      <td>Opheusden</td>\n",
       "      <td>Wijk 00 Kesteren</td>\n",
       "      <td>Neder-Betuwe</td>\n",
       "    </tr>\n",
       "    <tr>\n",
       "      <th>211616</th>\n",
       "      <td>4577856</td>\n",
       "      <td>2018-12-12</td>\n",
       "      <td>5036XA</td>\n",
       "      <td>395000.0</td>\n",
       "      <td>Type Lariks\\n\\nDe twee-onder-een-kapwoningen t...</td>\n",
       "      <td>Woonhuis</td>\n",
       "      <td>1</td>\n",
       "      <td>NaN</td>\n",
       "      <td>A3F8C9345E47A902FC0CE06865993E9D</td>\n",
       "      <td>6</td>\n",
       "      <td>...</td>\n",
       "      <td>NaN</td>\n",
       "      <td>4577856</td>\n",
       "      <td>156</td>\n",
       "      <td>2019-01-30</td>\n",
       "      <td>2019</td>\n",
       "      <td>eengezinswoning, 2-onder-1-kapwoning</td>\n",
       "      <td>5036XA</td>\n",
       "      <td>Koolhoven Buiten</td>\n",
       "      <td>Koolhoven</td>\n",
       "      <td>Tilburg</td>\n",
       "    </tr>\n",
       "  </tbody>\n",
       "</table>\n",
       "<p>211617 rows × 21 columns</p>\n",
       "</div>"
      ],
      "text/plain": [
       "        globalId publicatieDatum postcode  koopPrijs  \\\n",
       "0        4388064      2018-07-31   1774PG   139000.0   \n",
       "1        4388200      2018-09-24   7481LK   209000.0   \n",
       "2        4399344      2018-08-02   1068MS   267500.0   \n",
       "3        4400638      2018-08-04   5628EN   349000.0   \n",
       "4        4401765      2018-08-05   7731TV   495000.0   \n",
       "...          ...             ...      ...        ...   \n",
       "211612   4613507      2018-12-31   9791GD   159000.0   \n",
       "211613   4613532      2018-12-31   6431GT   179000.0   \n",
       "211614   4613537      2018-12-31   4051EW   391500.0   \n",
       "211615   4613566      2018-12-31   4043GG   375000.0   \n",
       "211616   4577856      2018-12-12   5036XA   395000.0   \n",
       "\n",
       "                                    volledigeOmschrijving categorieObject  \\\n",
       "0       Ruimte, vrijheid, en altijd het water en de we...        Woonhuis   \n",
       "1       Verrassend ruime tussenwoning nabij het centru...        Woonhuis   \n",
       "2       - ENGLISH TRANSLATION - \\n\\nOn the 21st of Sep...     Appartement   \n",
       "3       Wonen in een zeer royaal bemeten geschakelde 2...        Woonhuis   \n",
       "4       Landgoed Junne is een eeuwenoud landgoed en li...        Woonhuis   \n",
       "...                                                   ...             ...   \n",
       "211612  Ruime eengezinswoning aangeboden aan de rand v...        Woonhuis   \n",
       "211613  Nabij centrum van Hoensbroek met al haar voorz...        Woonhuis   \n",
       "211614  Ook de kans aangrijpen om te mogen wonen in de...        Woonhuis   \n",
       "211615  BIEDEN VANAF € 375.000,= kosten koper\\nHet uit...        Woonhuis   \n",
       "211616  Type Lariks\\n\\nDe twee-onder-een-kapwoningen t...        Woonhuis   \n",
       "\n",
       "        indTuin  perceelOppervlakte              kantoor_naam_MD5hash  \\\n",
       "0             1                 NaN  09F114F5C5EC061F6230349892132149   \n",
       "1             1               148.0  6A91BF7DB06A8DF2C9A89064F28571E7   \n",
       "2             0                 NaN  E983FEDC63D87BF61AE952D181C8FD17   \n",
       "3             1               244.0  02BC26608B8B1A0888D3612AC7A5DB5C   \n",
       "4             0              4500.0  F56B2705CE24B8D78A68481ED1B276CB   \n",
       "...         ...                 ...                               ...   \n",
       "211612        1               195.0  AB928B88F4860C427BB7C6A27D6F2642   \n",
       "211613        1               160.0  4271E4C370DF497EE3BB23B3AED3E292   \n",
       "211614        1               465.0  AB928B88F4860C427BB7C6A27D6F2642   \n",
       "211615        1               300.0  59A3951B92EB2334DC7295CEEA0FB547   \n",
       "211616        1                 NaN  A3F8C9345E47A902FC0CE06865993E9D   \n",
       "\n",
       "        aantalKamers  ...  energielabelKlasse globalId.1  oppervlakte  \\\n",
       "0                  3  ...                 NaN    4388064           62   \n",
       "1                  5  ...                   B    4388200          136   \n",
       "2                  3  ...                 NaN    4399344           70   \n",
       "3                  5  ...                 NaN    4400638          144   \n",
       "4                  8  ...                 NaN    4401765          323   \n",
       "...              ...  ...                 ...        ...          ...   \n",
       "211612             5  ...                 NaN    4613507          116   \n",
       "211613             4  ...                 NaN    4613532           84   \n",
       "211614             5  ...                 NaN    4613537           99   \n",
       "211615             7  ...                   A    4613566          172   \n",
       "211616             6  ...                 NaN    4577856          156   \n",
       "\n",
       "        datum_ondertekening construction_year  \\\n",
       "0                2018-11-12              1971   \n",
       "1                2018-08-30              1980   \n",
       "2                2018-11-23              2001   \n",
       "3                2018-12-14              1973   \n",
       "4                2018-12-06              1900   \n",
       "...                     ...               ...   \n",
       "211612           2019-03-07              1974   \n",
       "211613           2019-01-17              1995   \n",
       "211614           2019-08-03              1948   \n",
       "211615           2019-04-08              2006   \n",
       "211616           2019-01-30              2019   \n",
       "\n",
       "                                              house_type postal_code  \\\n",
       "0                           woonboot, vrijstaande woning         NaN   \n",
       "1                          eengezinswoning, tussenwoning      7481LK   \n",
       "2                          tussenverdieping, appartement      1068MS   \n",
       "3       eengezinswoning, geschakelde 2-onder-1-kapwoning      5628EN   \n",
       "4                      woonboerderij, vrijstaande woning      7731TV   \n",
       "...                                                  ...         ...   \n",
       "211612                     eengezinswoning, tussenwoning      9791GD   \n",
       "211613  eengezinswoning, geschakelde 2-onder-1-kapwoning      6431GT   \n",
       "211614        bungalow, vrijstaande woning, semi-bungalo      4051EW   \n",
       "211615              eengezinswoning, 2-onder-1-kapwoning      4043GG   \n",
       "211616              eengezinswoning, 2-onder-1-kapwoning      5036XA   \n",
       "\n",
       "                      buurt                             wijk      gemeente  \n",
       "0                       NaN                              NaN           NaN  \n",
       "1        Haaksbergen Kern-1       Wijk 00 Haaksbergen (dorp)   Haaksbergen  \n",
       "2       Calandlaan/Lelylaan                      Osdorp-Oost     Amsterdam  \n",
       "3           Woenselse Heide  Wijk 15 Stadsdeel Woensel-Noord     Eindhoven  \n",
       "4          Buurtschap Junne                            Ommen         Ommen  \n",
       "...                     ...                              ...           ...  \n",
       "211612             Ten Boer                     Wijk 00 West      Ten Boer  \n",
       "211613   De Dem en omgeving        Wijk 12 Hoensbroek-De Dem       Heerlen  \n",
       "211614               Ochten                  Wijk 01 Echteld  Neder-Betuwe  \n",
       "211615            Opheusden                 Wijk 00 Kesteren  Neder-Betuwe  \n",
       "211616     Koolhoven Buiten                        Koolhoven       Tilburg  \n",
       "\n",
       "[211617 rows x 21 columns]"
      ]
     },
     "execution_count": 3,
     "metadata": {},
     "output_type": "execute_result"
    }
   ],
   "source": [
    "df"
   ]
  },
  {
   "cell_type": "code",
   "execution_count": 96,
   "metadata": {},
   "outputs": [
    {
     "data": {
      "text/plain": [
       "(211617, 21)"
      ]
     },
     "execution_count": 96,
     "metadata": {},
     "output_type": "execute_result"
    }
   ],
   "source": [
    "df.shape"
   ]
  },
  {
   "cell_type": "code",
   "execution_count": 97,
   "metadata": {
    "collapsed": true
   },
   "outputs": [
    {
     "data": {
      "text/plain": [
       "globalId                   int64\n",
       "publicatieDatum           object\n",
       "postcode                  object\n",
       "koopPrijs                float64\n",
       "volledigeOmschrijving     object\n",
       "categorieObject           object\n",
       "indTuin                    int64\n",
       "perceelOppervlakte       float64\n",
       "kantoor_naam_MD5hash      object\n",
       "aantalKamers               int64\n",
       "aantalBadkamers          float64\n",
       "energielabelKlasse        object\n",
       "globalId.1                 int64\n",
       "oppervlakte                int64\n",
       "datum_ondertekening       object\n",
       "construction_year          int64\n",
       "house_type                object\n",
       "postal_code               object\n",
       "buurt                     object\n",
       "wijk                      object\n",
       "gemeente                  object\n",
       "dtype: object"
      ]
     },
     "execution_count": 97,
     "metadata": {},
     "output_type": "execute_result"
    }
   ],
   "source": [
    "df.dtypes"
   ]
  },
  {
   "cell_type": "code",
   "execution_count": 100,
   "metadata": {
    "collapsed": true
   },
   "outputs": [
    {
     "data": {
      "text/plain": [
       "globalId                 0\n",
       "publicatieDatum          0\n",
       "postcode                 0\n",
       "koopPrijs                0\n",
       "volledigeOmschrijving    0\n",
       "categorieObject          0\n",
       "indTuin                  0\n",
       "perceelOppervlakte       0\n",
       "kantoor_naam_MD5hash     0\n",
       "aantalKamers             0\n",
       "aantalBadkamers          0\n",
       "energielabelKlasse       0\n",
       "globalId.1               0\n",
       "oppervlakte              0\n",
       "datum_ondertekening      0\n",
       "construction_year        0\n",
       "house_type               0\n",
       "postal_code              0\n",
       "buurt                    0\n",
       "wijk                     0\n",
       "gemeente                 0\n",
       "dtype: int64"
      ]
     },
     "execution_count": 100,
     "metadata": {},
     "output_type": "execute_result"
    }
   ],
   "source": [
    "df.isnull().sum()"
   ]
  },
  {
   "cell_type": "code",
   "execution_count": 99,
   "metadata": {},
   "outputs": [],
   "source": [
    "df = df.fillna(0)"
   ]
  },
  {
   "cell_type": "code",
   "execution_count": null,
   "metadata": {},
   "outputs": [],
   "source": [
    "df = df[df.koopPrijs < 2000000]"
   ]
  },
  {
   "cell_type": "code",
   "execution_count": 110,
   "metadata": {},
   "outputs": [],
   "source": [
    "df_koopPrijs = df['koopPrijs']"
   ]
  },
  {
   "cell_type": "code",
   "execution_count": 111,
   "metadata": {},
   "outputs": [],
   "source": [
    "x = [int(b) for b in df_koopPrijs]"
   ]
  },
  {
   "cell_type": "code",
   "execution_count": 113,
   "metadata": {
    "scrolled": true
   },
   "outputs": [
    {
     "data": {
      "text/plain": [
       "array([139000, 209000, 267500, ..., 391500, 375000, 395000])"
      ]
     },
     "execution_count": 113,
     "metadata": {},
     "output_type": "execute_result"
    }
   ],
   "source": [
    "arr = np.array(x)\n",
    "arr"
   ]
  },
  {
   "cell_type": "code",
   "execution_count": 115,
   "metadata": {},
   "outputs": [],
   "source": [
    "y = arr[abs(arr - np.mean(arr)) < 2 * np.std(arr)]"
   ]
  },
  {
   "cell_type": "code",
   "execution_count": 120,
   "metadata": {
    "scrolled": true
   },
   "outputs": [
    {
     "ename": "AttributeError",
     "evalue": "This method only works with the ScalarFormatter",
     "output_type": "error",
     "traceback": [
      "\u001b[1;31m---------------------------------------------------------------------------\u001b[0m",
      "\u001b[1;31mAttributeError\u001b[0m                            Traceback (most recent call last)",
      "\u001b[1;32m~\\anaconda3\\lib\\site-packages\\matplotlib\\axes\\_base.py\u001b[0m in \u001b[0;36mticklabel_format\u001b[1;34m(self, axis, style, scilimits, useOffset, useLocale, useMathText)\u001b[0m\n\u001b[0;32m   2833\u001b[0m                 \u001b[1;32mif\u001b[0m \u001b[0museOffset\u001b[0m \u001b[1;32mis\u001b[0m \u001b[1;32mnot\u001b[0m \u001b[1;32mNone\u001b[0m\u001b[1;33m:\u001b[0m\u001b[1;33m\u001b[0m\u001b[1;33m\u001b[0m\u001b[0m\n\u001b[1;32m-> 2834\u001b[1;33m                     \u001b[0maxis\u001b[0m\u001b[1;33m.\u001b[0m\u001b[0mmajor\u001b[0m\u001b[1;33m.\u001b[0m\u001b[0mformatter\u001b[0m\u001b[1;33m.\u001b[0m\u001b[0mset_useOffset\u001b[0m\u001b[1;33m(\u001b[0m\u001b[0museOffset\u001b[0m\u001b[1;33m)\u001b[0m\u001b[1;33m\u001b[0m\u001b[1;33m\u001b[0m\u001b[0m\n\u001b[0m\u001b[0;32m   2835\u001b[0m                 \u001b[1;32mif\u001b[0m \u001b[0museLocale\u001b[0m \u001b[1;32mis\u001b[0m \u001b[1;32mnot\u001b[0m \u001b[1;32mNone\u001b[0m\u001b[1;33m:\u001b[0m\u001b[1;33m\u001b[0m\u001b[1;33m\u001b[0m\u001b[0m\n",
      "\u001b[1;31mAttributeError\u001b[0m: 'FixedFormatter' object has no attribute 'set_useOffset'",
      "\nDuring handling of the above exception, another exception occurred:\n",
      "\u001b[1;31mAttributeError\u001b[0m                            Traceback (most recent call last)",
      "\u001b[1;32m<ipython-input-120-53276e43a904>\u001b[0m in \u001b[0;36m<module>\u001b[1;34m\u001b[0m\n\u001b[0;32m      4\u001b[0m            \u001b[0mmedianprops\u001b[0m\u001b[1;33m=\u001b[0m\u001b[1;33m{\u001b[0m\u001b[1;34m'linewidth'\u001b[0m\u001b[1;33m:\u001b[0m \u001b[1;36m2\u001b[0m\u001b[1;33m,\u001b[0m \u001b[1;34m'color'\u001b[0m\u001b[1;33m:\u001b[0m \u001b[1;34m'purple'\u001b[0m\u001b[1;33m}\u001b[0m\u001b[1;33m,\u001b[0m\u001b[1;33m\u001b[0m\u001b[1;33m\u001b[0m\u001b[0m\n\u001b[0;32m      5\u001b[0m            meanprops={'linewidth': 2, 'color': 'red'})\n\u001b[1;32m----> 6\u001b[1;33m \u001b[0max\u001b[0m\u001b[1;33m.\u001b[0m\u001b[0mticklabel_format\u001b[0m\u001b[1;33m(\u001b[0m\u001b[0museOffset\u001b[0m\u001b[1;33m=\u001b[0m\u001b[1;32mFalse\u001b[0m\u001b[1;33m)\u001b[0m\u001b[1;33m\u001b[0m\u001b[1;33m\u001b[0m\u001b[0m\n\u001b[0m\u001b[0;32m      7\u001b[0m \u001b[0mplt\u001b[0m\u001b[1;33m.\u001b[0m\u001b[0mshow\u001b[0m\u001b[1;33m(\u001b[0m\u001b[1;33m)\u001b[0m\u001b[1;33m\u001b[0m\u001b[1;33m\u001b[0m\u001b[0m\n",
      "\u001b[1;32m~\\anaconda3\\lib\\site-packages\\matplotlib\\axes\\_base.py\u001b[0m in \u001b[0;36mticklabel_format\u001b[1;34m(self, axis, style, scilimits, useOffset, useLocale, useMathText)\u001b[0m\n\u001b[0;32m   2838\u001b[0m                     \u001b[0maxis\u001b[0m\u001b[1;33m.\u001b[0m\u001b[0mmajor\u001b[0m\u001b[1;33m.\u001b[0m\u001b[0mformatter\u001b[0m\u001b[1;33m.\u001b[0m\u001b[0mset_useMathText\u001b[0m\u001b[1;33m(\u001b[0m\u001b[0museMathText\u001b[0m\u001b[1;33m)\u001b[0m\u001b[1;33m\u001b[0m\u001b[1;33m\u001b[0m\u001b[0m\n\u001b[0;32m   2839\u001b[0m         \u001b[1;32mexcept\u001b[0m \u001b[0mAttributeError\u001b[0m\u001b[1;33m:\u001b[0m\u001b[1;33m\u001b[0m\u001b[1;33m\u001b[0m\u001b[0m\n\u001b[1;32m-> 2840\u001b[1;33m             raise AttributeError(\n\u001b[0m\u001b[0;32m   2841\u001b[0m                 \"This method only works with the ScalarFormatter\")\n\u001b[0;32m   2842\u001b[0m \u001b[1;33m\u001b[0m\u001b[0m\n",
      "\u001b[1;31mAttributeError\u001b[0m: This method only works with the ScalarFormatter"
     ]
    },
    {
     "data": {
      "image/png": "[encoded data removed]",
      "text/plain": [
       "<Figure size 432x288 with 1 Axes>"
      ]
     },
     "metadata": {
      "needs_background": "light"
     },
     "output_type": "display_data"
    }
   ],
   "source": [
    "fig, ax = plt.subplots()\n",
    "ax.boxplot((y), vert=False, showmeans=True, meanline=True,\n",
    "           labels=('x'), patch_artist=True,\n",
    "           medianprops={'linewidth': 2, 'color': 'purple'},\n",
    "           meanprops={'linewidth': 2, 'color': 'red'})\n",
    "ax.ticklabel_format(useOffset=False)\n",
    "plt.show()\n"
   ]
  },
  {
   "cell_type": "code",
   "execution_count": 119,
   "metadata": {
    "scrolled": true
   },
   "outputs": [
    {
     "data": {
      "text/plain": [
       "(0.0, 7750.0)"
      ]
     },
     "execution_count": 119,
     "metadata": {},
     "output_type": "execute_result"
    },
    {
     "data": {
      "image/png": "[encoded data removed]",
      "text/plain": [
       "<Figure size 432x288 with 1 Axes>"
      ]
     },
     "metadata": {
      "needs_background": "light"
     },
     "output_type": "display_data"
    }
   ],
   "source": [
    "import matplotlib.pyplot as plt\n",
    "\n",
    "# An \"interface\" to matplotlib.axes.Axes.hist() method\n",
    "n, bins, patches = plt.hist(x=y, bins='auto', color='#0504aa',\n",
    "                            alpha=0.7, rwidth=0.85)\n",
    "plt.grid(axis='y', alpha=0.75)\n",
    "plt.xlabel('Value')\n",
    "plt.ylabel('Frequency')\n",
    "plt.title('My Very Own Histogram')\n",
    "plt.text(23, 45, r'$\\mu=15, b=3$')\n",
    "maxfreq = n.max()\n",
    "plt.ticklabel_format(useOffset=False, style='plain')\n",
    "# Set a clean upper y-axis limit.\n",
    "plt.ylim(ymax=np.ceil(maxfreq / 10) * 10 if maxfreq % 10 else maxfreq + 10)\n"
   ]
  }
 ],
 "metadata": {
  "kernelspec": {
   "display_name": "Python 3",
   "language": "python",
   "name": "python3"
  },
  "language_info": {
   "codemirror_mode": {
    "name": "ipython",
    "version": 3
   },
   "file_extension": ".py",
   "mimetype": "text/x-python",
   "name": "python",
   "nbconvert_exporter": "python",
   "pygments_lexer": "ipython3",
   "version": "3.8.3"
  }
 },
 "nbformat": 4,
 "nbformat_minor": 4
}
