{
 "cells": [
  {
   "cell_type": "code",
   "execution_count": 1,
   "metadata": {},
   "outputs": [
    {
     "name": "stdout",
     "output_type": "stream",
     "text": [
      "(13305, 2)\n",
      "  buurtcode                                    buurtname\n",
      "0     30000                           Appingedam-Centrum\n",
      "1     30001                              Appingedam-West\n",
      "2     30002                              Appingedam-Oost\n",
      "3     30007  Verspreide huizen Damsterdiep en Eemskanaal\n",
      "4     30008  Verspreide huizen ten zuiden van Eemskanaal\n"
     ]
    }
   ],
   "source": [
    "import pandas as pd\n",
    "#load merged.csv\n",
    "merged = pd.read_csv(r'C:\\Users\\zuzan\\OneDrive\\Desktop\\Python Load\\Buurt_.csv', sep = ',')\n",
    "merged.buurtcode = merged.buurtcode.astype(str)\n",
    "merged = merged[['buurtcode', 'buurtname']]\n",
    "merged.drop_duplicates(subset ='buurtcode', keep = 'first', inplace = True)\n",
    "print(merged.shape)\n",
    "print(merged.head())"
   ]
  },
  {
   "cell_type": "code",
   "execution_count": 8,
   "metadata": {},
   "outputs": [
    {
     "data": {
      "text/html": [
       "<div>\n",
       "<style scoped>\n",
       "    .dataframe tbody tr th:only-of-type {\n",
       "        vertical-align: middle;\n",
       "    }\n",
       "\n",
       "    .dataframe tbody tr th {\n",
       "        vertical-align: top;\n",
       "    }\n",
       "\n",
       "    .dataframe thead th {\n",
       "        text-align: right;\n",
       "    }\n",
       "</style>\n",
       "<table border=\"1\" class=\"dataframe\">\n",
       "  <thead>\n",
       "    <tr style=\"text-align: right;\">\n",
       "      <th></th>\n",
       "      <th>NBH_code</th>\n",
       "      <th>No_residents</th>\n",
       "      <th>Density</th>\n",
       "    </tr>\n",
       "  </thead>\n",
       "  <tbody>\n",
       "    <tr>\n",
       "      <th>0</th>\n",
       "      <td>NL00</td>\n",
       "      <td>17181084</td>\n",
       "      <td>510</td>\n",
       "    </tr>\n",
       "    <tr>\n",
       "      <th>1</th>\n",
       "      <td>GM1680</td>\n",
       "      <td>25390</td>\n",
       "      <td>92</td>\n",
       "    </tr>\n",
       "    <tr>\n",
       "      <th>2</th>\n",
       "      <td>WK168000</td>\n",
       "      <td>3560</td>\n",
       "      <td>243</td>\n",
       "    </tr>\n",
       "    <tr>\n",
       "      <th>3</th>\n",
       "      <td>BU16800000</td>\n",
       "      <td>3415</td>\n",
       "      <td>1354</td>\n",
       "    </tr>\n",
       "    <tr>\n",
       "      <th>4</th>\n",
       "      <td>BU16800009</td>\n",
       "      <td>145</td>\n",
       "      <td>12</td>\n",
       "    </tr>\n",
       "  </tbody>\n",
       "</table>\n",
       "</div>"
      ],
      "text/plain": [
       "     NBH_code  No_residents Density\n",
       "0  NL00            17181084     510\n",
       "1  GM1680             25390      92\n",
       "2  WK168000            3560     243\n",
       "3  BU16800000          3415    1354\n",
       "4  BU16800009           145      12"
      ]
     },
     "execution_count": 8,
     "metadata": {},
     "output_type": "execute_result"
    }
   ],
   "source": [
    "import pandas as pd\n",
    "density = pd.read_csv(r'C:\\Users\\zuzan\\OneDrive\\Desktop\\repository\\product3team9\\data\\raw\\cbs_datasets\\cbs_sex_age_populationdensity.csv', \n",
    "                     error_bad_lines = False, sep = ';')\n",
    "density = density[['NBH_code', 'No_residents','Density']]\n",
    "density.head()"
   ]
  },
  {
   "cell_type": "code",
   "execution_count": 9,
   "metadata": {},
   "outputs": [
    {
     "name": "stderr",
     "output_type": "stream",
     "text": [
      "C:\\Users\\zuzan\\anaconda3\\lib\\site-packages\\pandas\\core\\indexing.py:671: SettingWithCopyWarning: \n",
      "A value is trying to be set on a copy of a slice from a DataFrame\n",
      "\n",
      "See the caveats in the documentation: https://pandas.pydata.org/pandas-docs/stable/user_guide/indexing.html#returning-a-view-versus-a-copy\n",
      "  self._setitem_with_indexer(indexer, value)\n"
     ]
    },
    {
     "data": {
      "text/html": [
       "<div>\n",
       "<style scoped>\n",
       "    .dataframe tbody tr th:only-of-type {\n",
       "        vertical-align: middle;\n",
       "    }\n",
       "\n",
       "    .dataframe tbody tr th {\n",
       "        vertical-align: top;\n",
       "    }\n",
       "\n",
       "    .dataframe thead th {\n",
       "        text-align: right;\n",
       "    }\n",
       "</style>\n",
       "<table border=\"1\" class=\"dataframe\">\n",
       "  <thead>\n",
       "    <tr style=\"text-align: right;\">\n",
       "      <th></th>\n",
       "      <th>NBH_code</th>\n",
       "      <th>No_residents</th>\n",
       "      <th>Density</th>\n",
       "    </tr>\n",
       "  </thead>\n",
       "  <tbody>\n",
       "    <tr>\n",
       "      <th>3</th>\n",
       "      <td>16800000</td>\n",
       "      <td>3415</td>\n",
       "      <td>1354</td>\n",
       "    </tr>\n",
       "    <tr>\n",
       "      <th>4</th>\n",
       "      <td>16800009</td>\n",
       "      <td>145</td>\n",
       "      <td>12</td>\n",
       "    </tr>\n",
       "    <tr>\n",
       "      <th>6</th>\n",
       "      <td>16800100</td>\n",
       "      <td>1260</td>\n",
       "      <td>738</td>\n",
       "    </tr>\n",
       "    <tr>\n",
       "      <th>7</th>\n",
       "      <td>16800109</td>\n",
       "      <td>170</td>\n",
       "      <td>10</td>\n",
       "    </tr>\n",
       "    <tr>\n",
       "      <th>9</th>\n",
       "      <td>16800200</td>\n",
       "      <td>325</td>\n",
       "      <td>562</td>\n",
       "    </tr>\n",
       "    <tr>\n",
       "      <th>...</th>\n",
       "      <td>...</td>\n",
       "      <td>...</td>\n",
       "      <td>...</td>\n",
       "    </tr>\n",
       "    <tr>\n",
       "      <th>134</th>\n",
       "      <td>1970302</td>\n",
       "      <td>2410</td>\n",
       "      <td>1492</td>\n",
       "    </tr>\n",
       "    <tr>\n",
       "      <th>135</th>\n",
       "      <td>1970303</td>\n",
       "      <td>1550</td>\n",
       "      <td>2396</td>\n",
       "    </tr>\n",
       "    <tr>\n",
       "      <th>136</th>\n",
       "      <td>1970304</td>\n",
       "      <td>2655</td>\n",
       "      <td>2987</td>\n",
       "    </tr>\n",
       "    <tr>\n",
       "      <th>137</th>\n",
       "      <td>1970305</td>\n",
       "      <td>825</td>\n",
       "      <td>1971</td>\n",
       "    </tr>\n",
       "    <tr>\n",
       "      <th>138</th>\n",
       "      <td>1970306</td>\n",
       "      <td>1060</td>\n",
       "      <td>3410</td>\n",
       "    </tr>\n",
       "  </tbody>\n",
       "</table>\n",
       "<p>100 rows × 3 columns</p>\n",
       "</div>"
      ],
      "text/plain": [
       "     NBH_code  No_residents Density\n",
       "3    16800000          3415    1354\n",
       "4    16800009           145      12\n",
       "6    16800100          1260     738\n",
       "7    16800109           170      10\n",
       "9    16800200           325     562\n",
       "..        ...           ...     ...\n",
       "134   1970302          2410    1492\n",
       "135   1970303          1550    2396\n",
       "136   1970304          2655    2987\n",
       "137   1970305           825    1971\n",
       "138   1970306          1060    3410\n",
       "\n",
       "[100 rows x 3 columns]"
      ]
     },
     "execution_count": 9,
     "metadata": {},
     "output_type": "execute_result"
    }
   ],
   "source": [
    "density = density[density['NBH_code'].str.contains('BU')]\n",
    "density['NBH_code'] = density['NBH_code'].astype(str)\n",
    "for a in range(len(density)):\n",
    "    if density['NBH_code'].iloc[a][2:3] == '0' and density['NBH_code'].iloc[a][3:4] != '0':\n",
    "        density['NBH_code'].iloc[a] = ''.join(density['NBH_code'].iloc[a].rsplit('BU0'))\n",
    "    elif density['NBH_code'].iloc[a][2:4] == '00' and density['NBH_code'].iloc[a][4:5] != '0':\n",
    "        density['NBH_code'].iloc[a] = ''.join(density['NBH_code'].iloc[a].rsplit('BU00'))\n",
    "    elif density['NBH_code'].iloc[a][2:5] == '000':\n",
    "        density['NBH_code'].iloc[a] = ''.join(density['NBH_code'].iloc[a].rsplit('BU000'))\n",
    "    else:\n",
    "        density['NBH_code'].iloc[a] = density['NBH_code'].iloc[a][2:]\n",
    "   \n",
    "density.head(100)"
   ]
  },
  {
   "cell_type": "code",
   "execution_count": 10,
   "metadata": {},
   "outputs": [
    {
     "data": {
      "text/plain": [
       "(13305, 3)"
      ]
     },
     "execution_count": 10,
     "metadata": {},
     "output_type": "execute_result"
    }
   ],
   "source": [
    "cleaned_density = pd.merge(density, merged, left_on='NBH_code', right_on='buurtcode', how = 'left')\n",
    "cleaned_density = cleaned_density.loc[cleaned_density['buurtname'].isna() == False]\n",
    "cleaned_density = cleaned_density[['buurtname','No_residents','Density']]\n",
    "cleaned_density.shape"
   ]
  },
  {
   "cell_type": "code",
   "execution_count": 17,
   "metadata": {},
   "outputs": [],
   "source": [
    "#cleaned_density['No_residents']=cleaned_density['No_residents'].str.extract(r'(\\d)')\n",
    "cleaned_density['Density']=cleaned_density['Density'].str.extract(r'(\\d)')"
   ]
  },
  {
   "cell_type": "code",
   "execution_count": 21,
   "metadata": {},
   "outputs": [],
   "source": [
    "cleaned_density = cleaned_density.dropna(subset = ['No_residents', 'Density'])"
   ]
  },
  {
   "cell_type": "code",
   "execution_count": 23,
   "metadata": {},
   "outputs": [
    {
     "data": {
      "text/plain": [
       "buurtname       0\n",
       "No_residents    0\n",
       "Density         0\n",
       "dtype: int64"
      ]
     },
     "execution_count": 23,
     "metadata": {},
     "output_type": "execute_result"
    }
   ],
   "source": [
    "cleaned_density.isna().sum()"
   ]
  },
  {
   "cell_type": "code",
   "execution_count": 22,
   "metadata": {},
   "outputs": [
    {
     "name": "stdout",
     "output_type": "stream",
     "text": [
      "buurtname       object\n",
      "No_residents     int32\n",
      "Density          int32\n",
      "dtype: object\n"
     ]
    },
    {
     "name": "stderr",
     "output_type": "stream",
     "text": [
      "<ipython-input-22-db30724e87d4>:1: SettingWithCopyWarning: \n",
      "A value is trying to be set on a copy of a slice from a DataFrame.\n",
      "Try using .loc[row_indexer,col_indexer] = value instead\n",
      "\n",
      "See the caveats in the documentation: https://pandas.pydata.org/pandas-docs/stable/user_guide/indexing.html#returning-a-view-versus-a-copy\n",
      "  cleaned_density['No_residents']=cleaned_density['No_residents'].astype(int)\n",
      "<ipython-input-22-db30724e87d4>:2: SettingWithCopyWarning: \n",
      "A value is trying to be set on a copy of a slice from a DataFrame.\n",
      "Try using .loc[row_indexer,col_indexer] = value instead\n",
      "\n",
      "See the caveats in the documentation: https://pandas.pydata.org/pandas-docs/stable/user_guide/indexing.html#returning-a-view-versus-a-copy\n",
      "  cleaned_density['Density']=cleaned_density['Density'].astype(int)\n"
     ]
    }
   ],
   "source": [
    "cleaned_density['No_residents']=cleaned_density['No_residents'].astype(int)\n",
    "cleaned_density['Density']=cleaned_density['Density'].astype(int)\n",
    "print(cleaned_density.dtypes)"
   ]
  },
  {
   "cell_type": "code",
   "execution_count": 26,
   "metadata": {},
   "outputs": [],
   "source": [
    "cleaned_density=cleaned_density.drop_duplicates(subset='buurtname', keep='first', inplace=False, ignore_index=False)"
   ]
  },
  {
   "cell_type": "code",
   "execution_count": 29,
   "metadata": {},
   "outputs": [
    {
     "data": {
      "text/html": [
       "<div>\n",
       "<style scoped>\n",
       "    .dataframe tbody tr th:only-of-type {\n",
       "        vertical-align: middle;\n",
       "    }\n",
       "\n",
       "    .dataframe tbody tr th {\n",
       "        vertical-align: top;\n",
       "    }\n",
       "\n",
       "    .dataframe thead th {\n",
       "        text-align: right;\n",
       "    }\n",
       "</style>\n",
       "<table border=\"1\" class=\"dataframe\">\n",
       "  <thead>\n",
       "    <tr style=\"text-align: right;\">\n",
       "      <th></th>\n",
       "      <th>buurtname</th>\n",
       "      <th>No_residents</th>\n",
       "      <th>Density</th>\n",
       "    </tr>\n",
       "  </thead>\n",
       "  <tbody>\n",
       "    <tr>\n",
       "      <th>0</th>\n",
       "      <td>Annen</td>\n",
       "      <td>3415</td>\n",
       "      <td>1</td>\n",
       "    </tr>\n",
       "    <tr>\n",
       "      <th>1</th>\n",
       "      <td>Verspreide huizen Annen</td>\n",
       "      <td>145</td>\n",
       "      <td>1</td>\n",
       "    </tr>\n",
       "    <tr>\n",
       "      <th>2</th>\n",
       "      <td>Eext</td>\n",
       "      <td>1260</td>\n",
       "      <td>7</td>\n",
       "    </tr>\n",
       "    <tr>\n",
       "      <th>3</th>\n",
       "      <td>Verspreide huizen Eext</td>\n",
       "      <td>170</td>\n",
       "      <td>1</td>\n",
       "    </tr>\n",
       "    <tr>\n",
       "      <th>4</th>\n",
       "      <td>Anloo</td>\n",
       "      <td>325</td>\n",
       "      <td>5</td>\n",
       "    </tr>\n",
       "    <tr>\n",
       "      <th>...</th>\n",
       "      <td>...</td>\n",
       "      <td>...</td>\n",
       "      <td>...</td>\n",
       "    </tr>\n",
       "    <tr>\n",
       "      <th>101</th>\n",
       "      <td>Dinxperlo Centrum/Oost</td>\n",
       "      <td>2795</td>\n",
       "      <td>3</td>\n",
       "    </tr>\n",
       "    <tr>\n",
       "      <th>102</th>\n",
       "      <td>Dinxperlo Noord</td>\n",
       "      <td>1810</td>\n",
       "      <td>2</td>\n",
       "    </tr>\n",
       "    <tr>\n",
       "      <th>103</th>\n",
       "      <td>Dinxperlo West</td>\n",
       "      <td>2425</td>\n",
       "      <td>1</td>\n",
       "    </tr>\n",
       "    <tr>\n",
       "      <th>104</th>\n",
       "      <td>De Heurne-kern</td>\n",
       "      <td>330</td>\n",
       "      <td>1</td>\n",
       "    </tr>\n",
       "    <tr>\n",
       "      <th>105</th>\n",
       "      <td>Verspreide huizen Dinxperlo</td>\n",
       "      <td>240</td>\n",
       "      <td>1</td>\n",
       "    </tr>\n",
       "  </tbody>\n",
       "</table>\n",
       "<p>100 rows × 3 columns</p>\n",
       "</div>"
      ],
      "text/plain": [
       "                       buurtname  No_residents  Density\n",
       "0                          Annen          3415        1\n",
       "1        Verspreide huizen Annen           145        1\n",
       "2                           Eext          1260        7\n",
       "3         Verspreide huizen Eext           170        1\n",
       "4                          Anloo           325        5\n",
       "..                           ...           ...      ...\n",
       "101       Dinxperlo Centrum/Oost          2795        3\n",
       "102              Dinxperlo Noord          1810        2\n",
       "103               Dinxperlo West          2425        1\n",
       "104               De Heurne-kern           330        1\n",
       "105  Verspreide huizen Dinxperlo           240        1\n",
       "\n",
       "[100 rows x 3 columns]"
      ]
     },
     "execution_count": 29,
     "metadata": {},
     "output_type": "execute_result"
    }
   ],
   "source": [
    "cleaned_density.head(100)"
   ]
  },
  {
   "cell_type": "code",
   "execution_count": 28,
   "metadata": {},
   "outputs": [],
   "source": [
    "cleaned_density.to_csv('cleaned_density.csv', index=False)"
   ]
  }
 ],
 "metadata": {
  "kernelspec": {
   "display_name": "Python 3",
   "language": "python",
   "name": "python3"
  },
  "language_info": {
   "codemirror_mode": {
    "name": "ipython",
    "version": 3
   },
   "file_extension": ".py",
   "mimetype": "text/x-python",
   "name": "python",
   "nbconvert_exporter": "python",
   "pygments_lexer": "ipython3",
   "version": "3.8.3"
  }
 },
 "nbformat": 4,
 "nbformat_minor": 4
}
