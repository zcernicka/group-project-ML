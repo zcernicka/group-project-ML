{
 "cells": [
  {
   "cell_type": "code",
   "execution_count": 7,
   "metadata": {},
   "outputs": [
    {
     "name": "stdout",
     "output_type": "stream",
     "text": [
      "(13305, 2)\n",
      "  buurtcode                                    buurtname\n",
      "0     30000                           Appingedam-Centrum\n",
      "1     30001                              Appingedam-West\n",
      "2     30002                              Appingedam-Oost\n",
      "3     30007  Verspreide huizen Damsterdiep en Eemskanaal\n",
      "4     30008  Verspreide huizen ten zuiden van Eemskanaal\n"
     ]
    }
   ],
   "source": [
    "import pandas as pd\n",
    "#load merged.csv\n",
    "merged = pd.read_csv(r'C:\\Users\\zuzan\\OneDrive\\Desktop\\Python Load\\Buurt_.csv', sep = ',')\n",
    "merged.buurtcode = merged.buurtcode.astype(str)\n",
    "merged = merged[['buurtcode', 'buurtname']]\n",
    "merged.drop_duplicates(subset ='buurtcode', keep = 'first', inplace = True)\n",
    "print(merged.shape)\n",
    "print(merged.head())"
   ]
  },
  {
   "cell_type": "code",
   "execution_count": 8,
   "metadata": {},
   "outputs": [
    {
     "data": {
      "text/html": [
       "<div>\n",
       "<style scoped>\n",
       "    .dataframe tbody tr th:only-of-type {\n",
       "        vertical-align: middle;\n",
       "    }\n",
       "\n",
       "    .dataframe tbody tr th {\n",
       "        vertical-align: top;\n",
       "    }\n",
       "\n",
       "    .dataframe thead th {\n",
       "        text-align: right;\n",
       "    }\n",
       "</style>\n",
       "<table border=\"1\" class=\"dataframe\">\n",
       "  <thead>\n",
       "    <tr style=\"text-align: right;\">\n",
       "      <th></th>\n",
       "      <th>NBH_code</th>\n",
       "      <th>Total_theft_from_house</th>\n",
       "      <th>Destruction</th>\n",
       "      <th>Violence_and_sexual_abuse</th>\n",
       "    </tr>\n",
       "  </thead>\n",
       "  <tbody>\n",
       "    <tr>\n",
       "      <th>0</th>\n",
       "      <td>NL00</td>\n",
       "      <td>.</td>\n",
       "      <td>.</td>\n",
       "      <td>.</td>\n",
       "    </tr>\n",
       "    <tr>\n",
       "      <th>1</th>\n",
       "      <td>GM1680</td>\n",
       "      <td>2</td>\n",
       "      <td>2</td>\n",
       "      <td>3</td>\n",
       "    </tr>\n",
       "    <tr>\n",
       "      <th>2</th>\n",
       "      <td>WK168000</td>\n",
       "      <td>1</td>\n",
       "      <td>2</td>\n",
       "      <td>2</td>\n",
       "    </tr>\n",
       "    <tr>\n",
       "      <th>3</th>\n",
       "      <td>BU16800000</td>\n",
       "      <td>1</td>\n",
       "      <td>2</td>\n",
       "      <td>2</td>\n",
       "    </tr>\n",
       "    <tr>\n",
       "      <th>4</th>\n",
       "      <td>BU16800009</td>\n",
       "      <td>0</td>\n",
       "      <td>0</td>\n",
       "      <td>0</td>\n",
       "    </tr>\n",
       "  </tbody>\n",
       "</table>\n",
       "</div>"
      ],
      "text/plain": [
       "     NBH_code Total_theft_from_house Destruction Violence_and_sexual_abuse\n",
       "0  NL00                            .           .                         .\n",
       "1  GM1680                          2           2                         3\n",
       "2  WK168000                        1           2                         2\n",
       "3  BU16800000                      1           2                         2\n",
       "4  BU16800009                      0           0                         0"
      ]
     },
     "execution_count": 8,
     "metadata": {},
     "output_type": "execute_result"
    }
   ],
   "source": [
    "import pandas as pd\n",
    "criminality = pd.read_csv(r'C:\\Users\\zuzan\\OneDrive\\Desktop\\repository\\product3team9\\data\\raw\\cbs_datasets\\cbs_criminality.csv', \n",
    "                     error_bad_lines = False, sep = ';')\n",
    "criminality = criminality[['NBH_code', 'Total_theft_from_house','Destruction','Violence_and_sexual_abuse']]\n",
    "criminality.head()"
   ]
  },
  {
   "cell_type": "code",
   "execution_count": 9,
   "metadata": {},
   "outputs": [
    {
     "data": {
      "text/html": [
       "<div>\n",
       "<style scoped>\n",
       "    .dataframe tbody tr th:only-of-type {\n",
       "        vertical-align: middle;\n",
       "    }\n",
       "\n",
       "    .dataframe tbody tr th {\n",
       "        vertical-align: top;\n",
       "    }\n",
       "\n",
       "    .dataframe thead th {\n",
       "        text-align: right;\n",
       "    }\n",
       "</style>\n",
       "<table border=\"1\" class=\"dataframe\">\n",
       "  <thead>\n",
       "    <tr style=\"text-align: right;\">\n",
       "      <th></th>\n",
       "      <th>NBH_code</th>\n",
       "      <th>Total_theft_from_house</th>\n",
       "      <th>Destruction</th>\n",
       "      <th>Violence_and_sexual_abuse</th>\n",
       "    </tr>\n",
       "  </thead>\n",
       "  <tbody>\n",
       "    <tr>\n",
       "      <th>3</th>\n",
       "      <td>16800000</td>\n",
       "      <td>1</td>\n",
       "      <td>2</td>\n",
       "      <td>2</td>\n",
       "    </tr>\n",
       "    <tr>\n",
       "      <th>4</th>\n",
       "      <td>16800009</td>\n",
       "      <td>0</td>\n",
       "      <td>0</td>\n",
       "      <td>0</td>\n",
       "    </tr>\n",
       "    <tr>\n",
       "      <th>6</th>\n",
       "      <td>16800100</td>\n",
       "      <td>2</td>\n",
       "      <td>0</td>\n",
       "      <td>1</td>\n",
       "    </tr>\n",
       "    <tr>\n",
       "      <th>7</th>\n",
       "      <td>16800109</td>\n",
       "      <td>0</td>\n",
       "      <td>6</td>\n",
       "      <td>6</td>\n",
       "    </tr>\n",
       "    <tr>\n",
       "      <th>9</th>\n",
       "      <td>16800200</td>\n",
       "      <td>0</td>\n",
       "      <td>3</td>\n",
       "      <td>0</td>\n",
       "    </tr>\n",
       "    <tr>\n",
       "      <th>...</th>\n",
       "      <td>...</td>\n",
       "      <td>...</td>\n",
       "      <td>...</td>\n",
       "      <td>...</td>\n",
       "    </tr>\n",
       "    <tr>\n",
       "      <th>134</th>\n",
       "      <td>1970302</td>\n",
       "      <td>0</td>\n",
       "      <td>1</td>\n",
       "      <td>1</td>\n",
       "    </tr>\n",
       "    <tr>\n",
       "      <th>135</th>\n",
       "      <td>1970303</td>\n",
       "      <td>1</td>\n",
       "      <td>1</td>\n",
       "      <td>2</td>\n",
       "    </tr>\n",
       "    <tr>\n",
       "      <th>136</th>\n",
       "      <td>1970304</td>\n",
       "      <td>2</td>\n",
       "      <td>1</td>\n",
       "      <td>1</td>\n",
       "    </tr>\n",
       "    <tr>\n",
       "      <th>137</th>\n",
       "      <td>1970305</td>\n",
       "      <td>0</td>\n",
       "      <td>0</td>\n",
       "      <td>0</td>\n",
       "    </tr>\n",
       "    <tr>\n",
       "      <th>138</th>\n",
       "      <td>1970306</td>\n",
       "      <td>0</td>\n",
       "      <td>0</td>\n",
       "      <td>0</td>\n",
       "    </tr>\n",
       "  </tbody>\n",
       "</table>\n",
       "<p>100 rows × 4 columns</p>\n",
       "</div>"
      ],
      "text/plain": [
       "     NBH_code Total_theft_from_house Destruction Violence_and_sexual_abuse\n",
       "3    16800000                      1           2                         2\n",
       "4    16800009                      0           0                         0\n",
       "6    16800100                      2           0                         1\n",
       "7    16800109                      0           6                         6\n",
       "9    16800200                      0           3                         0\n",
       "..        ...                    ...         ...                       ...\n",
       "134   1970302                      0           1                         1\n",
       "135   1970303                      1           1                         2\n",
       "136   1970304                      2           1                         1\n",
       "137   1970305                      0           0                         0\n",
       "138   1970306                      0           0                         0\n",
       "\n",
       "[100 rows x 4 columns]"
      ]
     },
     "execution_count": 9,
     "metadata": {},
     "output_type": "execute_result"
    }
   ],
   "source": [
    "criminality = criminality[criminality['NBH_code'].str.contains('BU')]\n",
    "criminality['NBH_code'] = criminality['NBH_code'].astype(str)\n",
    "for a in range(len(criminality)):\n",
    "    if criminality['NBH_code'].iloc[a][2:3] == '0' and criminality['NBH_code'].iloc[a][3:4] != '0':\n",
    "        criminality['NBH_code'].iloc[a] = ''.join(criminality['NBH_code'].iloc[a].rsplit('BU0'))\n",
    "    elif criminality['NBH_code'].iloc[a][2:4] == '00' and criminality['NBH_code'].iloc[a][4:5] != '0':\n",
    "        criminality['NBH_code'].iloc[a] = ''.join(criminality['NBH_code'].iloc[a].rsplit('BU00'))\n",
    "    elif criminality['NBH_code'].iloc[a][2:5] == '000':\n",
    "        criminality['NBH_code'].iloc[a] = ''.join(criminality['NBH_code'].iloc[a].rsplit('BU000'))\n",
    "    else:\n",
    "        criminality['NBH_code'].iloc[a] = criminality['NBH_code'].iloc[a][2:]\n",
    "   \n",
    "criminality.head(100)"
   ]
  },
  {
   "cell_type": "code",
   "execution_count": 12,
   "metadata": {},
   "outputs": [
    {
     "data": {
      "text/plain": [
       "(13305, 4)"
      ]
     },
     "execution_count": 12,
     "metadata": {},
     "output_type": "execute_result"
    }
   ],
   "source": [
    "cleaned_criminality = pd.merge(criminality, merged, left_on='NBH_code', right_on='buurtcode', how = 'left')\n",
    "cleaned_criminality = cleaned_criminality.loc[cleaned_criminality['buurtname'].isna() == False]\n",
    "cleaned_criminality = cleaned_criminality[['buurtname', 'Total_theft_from_house','Destruction','Violence_and_sexual_abuse']]\n",
    "cleaned_criminality.shape"
   ]
  },
  {
   "cell_type": "code",
   "execution_count": 31,
   "metadata": {
    "scrolled": true
   },
   "outputs": [
    {
     "data": {
      "text/plain": [
       "buurtname                      0\n",
       "Total_theft_from_house       933\n",
       "Destruction                  923\n",
       "Violence_and_sexual_abuse    923\n",
       "dtype: int64"
      ]
     },
     "execution_count": 31,
     "metadata": {},
     "output_type": "execute_result"
    }
   ],
   "source": [
    "cleaned_criminality.isna().sum()"
   ]
  },
  {
   "cell_type": "code",
   "execution_count": 32,
   "metadata": {},
   "outputs": [],
   "source": [
    "cleaned_criminality = cleaned_criminality.dropna(subset = ['Total_theft_from_house', 'Destruction', 'Violence_and_sexual_abuse'])"
   ]
  },
  {
   "cell_type": "code",
   "execution_count": 26,
   "metadata": {},
   "outputs": [],
   "source": [
    "cleaned_criminality['Total_theft_from_house']=cleaned_criminality['Total_theft_from_house'].str.extract(r'(\\d)')\n",
    "cleaned_criminality['Destruction']=cleaned_criminality['Destruction'].str.extract(r'(\\d)')\n",
    "cleaned_criminality['Violence_and_sexual_abuse']=cleaned_criminality['Violence_and_sexual_abuse'].str.extract(r'(\\d)')"
   ]
  },
  {
   "cell_type": "code",
   "execution_count": 33,
   "metadata": {},
   "outputs": [
    {
     "name": "stdout",
     "output_type": "stream",
     "text": [
      "buurtname                    object\n",
      "Total_theft_from_house        int32\n",
      "Destruction                   int32\n",
      "Violence_and_sexual_abuse     int32\n",
      "dtype: object\n"
     ]
    },
    {
     "name": "stderr",
     "output_type": "stream",
     "text": [
      "<ipython-input-33-52a00ab78e7b>:1: SettingWithCopyWarning: \n",
      "A value is trying to be set on a copy of a slice from a DataFrame.\n",
      "Try using .loc[row_indexer,col_indexer] = value instead\n",
      "\n",
      "See the caveats in the documentation: https://pandas.pydata.org/pandas-docs/stable/user_guide/indexing.html#returning-a-view-versus-a-copy\n",
      "  cleaned_criminality['Total_theft_from_house'] = cleaned_criminality['Total_theft_from_house'].astype(int)\n",
      "<ipython-input-33-52a00ab78e7b>:2: SettingWithCopyWarning: \n",
      "A value is trying to be set on a copy of a slice from a DataFrame.\n",
      "Try using .loc[row_indexer,col_indexer] = value instead\n",
      "\n",
      "See the caveats in the documentation: https://pandas.pydata.org/pandas-docs/stable/user_guide/indexing.html#returning-a-view-versus-a-copy\n",
      "  cleaned_criminality['Destruction'] = cleaned_criminality['Destruction'].astype(int)\n",
      "<ipython-input-33-52a00ab78e7b>:3: SettingWithCopyWarning: \n",
      "A value is trying to be set on a copy of a slice from a DataFrame.\n",
      "Try using .loc[row_indexer,col_indexer] = value instead\n",
      "\n",
      "See the caveats in the documentation: https://pandas.pydata.org/pandas-docs/stable/user_guide/indexing.html#returning-a-view-versus-a-copy\n",
      "  cleaned_criminality['Violence_and_sexual_abuse'] = cleaned_criminality['Violence_and_sexual_abuse'].astype(int)\n"
     ]
    }
   ],
   "source": [
    "cleaned_criminality['Total_theft_from_house'] = cleaned_criminality['Total_theft_from_house'].astype(int)\n",
    "cleaned_criminality['Destruction'] = cleaned_criminality['Destruction'].astype(int)\n",
    "cleaned_criminality['Violence_and_sexual_abuse'] = cleaned_criminality['Violence_and_sexual_abuse'].astype(int)\n",
    "print(cleaned_criminality.dtypes)"
   ]
  },
  {
   "cell_type": "code",
   "execution_count": 34,
   "metadata": {},
   "outputs": [
    {
     "name": "stdout",
     "output_type": "stream",
     "text": [
      "buurtname                    object\n",
      "Total_theft_from_house        int32\n",
      "Destruction                   int32\n",
      "Violence_and_sexual_abuse     int32\n",
      "dtype: object\n"
     ]
    }
   ],
   "source": [
    "print(cleaned_criminality.dtypes)"
   ]
  },
  {
   "cell_type": "code",
   "execution_count": 36,
   "metadata": {},
   "outputs": [],
   "source": [
    "cleaned_criminality.to_csv('cleaned_criminality.csv', index=False)"
   ]
  }
 ],
 "metadata": {
  "kernelspec": {
   "display_name": "Python 3",
   "language": "python",
   "name": "python3"
  },
  "language_info": {
   "codemirror_mode": {
    "name": "ipython",
    "version": 3
   },
   "file_extension": ".py",
   "mimetype": "text/x-python",
   "name": "python",
   "nbconvert_exporter": "python",
   "pygments_lexer": "ipython3",
   "version": "3.8.3"
  }
 },
 "nbformat": 4,
 "nbformat_minor": 4
}
