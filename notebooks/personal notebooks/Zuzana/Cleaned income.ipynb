{
 "cells": [
  {
   "cell_type": "code",
   "execution_count": 1,
   "metadata": {},
   "outputs": [
    {
     "name": "stdout",
     "output_type": "stream",
     "text": [
      "(13305, 2)\n",
      "  buurtcode                                    buurtname\n",
      "0     30000                           Appingedam-Centrum\n",
      "1     30001                              Appingedam-West\n",
      "2     30002                              Appingedam-Oost\n",
      "3     30007  Verspreide huizen Damsterdiep en Eemskanaal\n",
      "4     30008  Verspreide huizen ten zuiden van Eemskanaal\n"
     ]
    }
   ],
   "source": [
    "import pandas as pd\n",
    "#load merged.csv\n",
    "merged = pd.read_csv(r'C:\\Users\\zuzan\\OneDrive\\Desktop\\Python Load\\Buurt_.csv', sep = ',')\n",
    "merged.buurtcode = merged.buurtcode.astype(str)\n",
    "merged = merged[['buurtcode', 'buurtname']]\n",
    "merged.drop_duplicates(subset ='buurtcode', keep = 'first', inplace = True)\n",
    "print(merged.shape)\n",
    "print(merged.head())"
   ]
  },
  {
   "cell_type": "code",
   "execution_count": 3,
   "metadata": {},
   "outputs": [
    {
     "data": {
      "text/html": [
       "<div>\n",
       "<style scoped>\n",
       "    .dataframe tbody tr th:only-of-type {\n",
       "        vertical-align: middle;\n",
       "    }\n",
       "\n",
       "    .dataframe tbody tr th {\n",
       "        vertical-align: top;\n",
       "    }\n",
       "\n",
       "    .dataframe thead th {\n",
       "        text-align: right;\n",
       "    }\n",
       "</style>\n",
       "<table border=\"1\" class=\"dataframe\">\n",
       "  <thead>\n",
       "    <tr style=\"text-align: right;\">\n",
       "      <th></th>\n",
       "      <th>NBH_code</th>\n",
       "      <th>%_low_income_households</th>\n",
       "      <th>%_below_social_minimum</th>\n",
       "    </tr>\n",
       "  </thead>\n",
       "  <tbody>\n",
       "    <tr>\n",
       "      <th>0</th>\n",
       "      <td>NL00</td>\n",
       "      <td>7.9</td>\n",
       "      <td>7.1</td>\n",
       "    </tr>\n",
       "    <tr>\n",
       "      <th>1</th>\n",
       "      <td>GM1680</td>\n",
       "      <td>5.4</td>\n",
       "      <td>4.9</td>\n",
       "    </tr>\n",
       "    <tr>\n",
       "      <th>2</th>\n",
       "      <td>WK168000</td>\n",
       "      <td>3.5</td>\n",
       "      <td>4.5</td>\n",
       "    </tr>\n",
       "    <tr>\n",
       "      <th>3</th>\n",
       "      <td>BU16800000</td>\n",
       "      <td>3.4</td>\n",
       "      <td>4.5</td>\n",
       "    </tr>\n",
       "    <tr>\n",
       "      <th>4</th>\n",
       "      <td>BU16800009</td>\n",
       "      <td>.</td>\n",
       "      <td>.</td>\n",
       "    </tr>\n",
       "  </tbody>\n",
       "</table>\n",
       "</div>"
      ],
      "text/plain": [
       "     NBH_code %_low_income_households %_below_social_minimum\n",
       "0  NL00                           7.9                    7.1\n",
       "1  GM1680                         5.4                    4.9\n",
       "2  WK168000                       3.5                    4.5\n",
       "3  BU16800000                     3.4                    4.5\n",
       "4  BU16800009                       .                      ."
      ]
     },
     "execution_count": 3,
     "metadata": {},
     "output_type": "execute_result"
    }
   ],
   "source": [
    "import pandas as pd\n",
    "income = pd.read_csv(r'C:\\Users\\zuzan\\OneDrive\\Desktop\\repository\\product3team9\\data\\raw\\cbs_datasets\\cbs_income_social_security.csv', \n",
    "                     error_bad_lines = False, sep = ';')\n",
    "income = income[['NBH_code', '%_low_income_households','%_below_social_minimum']]\n",
    "income.head()"
   ]
  },
  {
   "cell_type": "code",
   "execution_count": 4,
   "metadata": {},
   "outputs": [
    {
     "data": {
      "text/html": [
       "<div>\n",
       "<style scoped>\n",
       "    .dataframe tbody tr th:only-of-type {\n",
       "        vertical-align: middle;\n",
       "    }\n",
       "\n",
       "    .dataframe tbody tr th {\n",
       "        vertical-align: top;\n",
       "    }\n",
       "\n",
       "    .dataframe thead th {\n",
       "        text-align: right;\n",
       "    }\n",
       "</style>\n",
       "<table border=\"1\" class=\"dataframe\">\n",
       "  <thead>\n",
       "    <tr style=\"text-align: right;\">\n",
       "      <th></th>\n",
       "      <th>NBH_code</th>\n",
       "      <th>%_low_income_households</th>\n",
       "      <th>%_below_social_minimum</th>\n",
       "    </tr>\n",
       "  </thead>\n",
       "  <tbody>\n",
       "    <tr>\n",
       "      <th>3</th>\n",
       "      <td>16800000</td>\n",
       "      <td>3.4</td>\n",
       "      <td>4.5</td>\n",
       "    </tr>\n",
       "    <tr>\n",
       "      <th>4</th>\n",
       "      <td>16800009</td>\n",
       "      <td>.</td>\n",
       "      <td>.</td>\n",
       "    </tr>\n",
       "    <tr>\n",
       "      <th>6</th>\n",
       "      <td>16800100</td>\n",
       "      <td>6.9</td>\n",
       "      <td>6.1</td>\n",
       "    </tr>\n",
       "    <tr>\n",
       "      <th>7</th>\n",
       "      <td>16800109</td>\n",
       "      <td>.</td>\n",
       "      <td>.</td>\n",
       "    </tr>\n",
       "    <tr>\n",
       "      <th>9</th>\n",
       "      <td>16800200</td>\n",
       "      <td>7.6</td>\n",
       "      <td>6.9</td>\n",
       "    </tr>\n",
       "    <tr>\n",
       "      <th>...</th>\n",
       "      <td>...</td>\n",
       "      <td>...</td>\n",
       "      <td>...</td>\n",
       "    </tr>\n",
       "    <tr>\n",
       "      <th>134</th>\n",
       "      <td>1970302</td>\n",
       "      <td>3.4</td>\n",
       "      <td>2.8</td>\n",
       "    </tr>\n",
       "    <tr>\n",
       "      <th>135</th>\n",
       "      <td>1970303</td>\n",
       "      <td>2.4</td>\n",
       "      <td>1.8</td>\n",
       "    </tr>\n",
       "    <tr>\n",
       "      <th>136</th>\n",
       "      <td>1970304</td>\n",
       "      <td>2.7</td>\n",
       "      <td>2.9</td>\n",
       "    </tr>\n",
       "    <tr>\n",
       "      <th>137</th>\n",
       "      <td>1970305</td>\n",
       "      <td>2.2</td>\n",
       "      <td>1.5</td>\n",
       "    </tr>\n",
       "    <tr>\n",
       "      <th>138</th>\n",
       "      <td>1970306</td>\n",
       "      <td>1.9</td>\n",
       "      <td>2.8</td>\n",
       "    </tr>\n",
       "  </tbody>\n",
       "</table>\n",
       "<p>100 rows × 3 columns</p>\n",
       "</div>"
      ],
      "text/plain": [
       "     NBH_code %_low_income_households %_below_social_minimum\n",
       "3    16800000                     3.4                    4.5\n",
       "4    16800009                       .                      .\n",
       "6    16800100                     6.9                    6.1\n",
       "7    16800109                       .                      .\n",
       "9    16800200                     7.6                    6.9\n",
       "..        ...                     ...                    ...\n",
       "134   1970302                     3.4                    2.8\n",
       "135   1970303                     2.4                    1.8\n",
       "136   1970304                     2.7                    2.9\n",
       "137   1970305                     2.2                    1.5\n",
       "138   1970306                     1.9                    2.8\n",
       "\n",
       "[100 rows x 3 columns]"
      ]
     },
     "execution_count": 4,
     "metadata": {},
     "output_type": "execute_result"
    }
   ],
   "source": [
    "income = income[income['NBH_code'].str.contains('BU')]\n",
    "income['NBH_code'] = income['NBH_code'].astype(str)\n",
    "for a in range(len(income)):\n",
    "    if income['NBH_code'].iloc[a][2:3] == '0' and income['NBH_code'].iloc[a][3:4] != '0':\n",
    "        income['NBH_code'].iloc[a] = ''.join(income['NBH_code'].iloc[a].rsplit('BU0'))\n",
    "    elif income['NBH_code'].iloc[a][2:4] == '00' and income['NBH_code'].iloc[a][4:5] != '0':\n",
    "        income['NBH_code'].iloc[a] = ''.join(income['NBH_code'].iloc[a].rsplit('BU00'))\n",
    "    elif income['NBH_code'].iloc[a][2:5] == '000':\n",
    "        income['NBH_code'].iloc[a] = ''.join(income['NBH_code'].iloc[a].rsplit('BU000'))\n",
    "    else:\n",
    "        income['NBH_code'].iloc[a] = income['NBH_code'].iloc[a][2:]\n",
    "   \n",
    "income.head(100)"
   ]
  },
  {
   "cell_type": "code",
   "execution_count": 6,
   "metadata": {},
   "outputs": [
    {
     "data": {
      "text/plain": [
       "(13305, 3)"
      ]
     },
     "execution_count": 6,
     "metadata": {},
     "output_type": "execute_result"
    }
   ],
   "source": [
    "cleaned_income = pd.merge(income, merged, left_on='NBH_code', right_on='buurtcode', how = 'left')\n",
    "cleaned_income = cleaned_income.loc[cleaned_income['buurtname'].isna() == False]\n",
    "cleaned_income = cleaned_income[['buurtname','%_low_income_households','%_below_social_minimum']]\n",
    "cleaned_income.shape"
   ]
  },
  {
   "cell_type": "code",
   "execution_count": 12,
   "metadata": {
    "scrolled": true
   },
   "outputs": [
    {
     "data": {
      "text/plain": [
       "buurtname                     0\n",
       "%_low_income_households    4193\n",
       "%_below_social_minimum     4193\n",
       "dtype: int64"
      ]
     },
     "execution_count": 12,
     "metadata": {},
     "output_type": "execute_result"
    }
   ],
   "source": [
    "cleaned_income.isna().sum()"
   ]
  },
  {
   "cell_type": "code",
   "execution_count": 10,
   "metadata": {},
   "outputs": [],
   "source": [
    "cleaned_income['%_low_income_households']=cleaned_income['%_low_income_households'].str.extract(r'(\\d)')\n",
    "cleaned_income['%_below_social_minimum']=cleaned_income['%_below_social_minimum'].str.extract(r'(\\d)')"
   ]
  },
  {
   "cell_type": "code",
   "execution_count": null,
   "metadata": {},
   "outputs": [],
   "source": [
    "cleaned_income = cleaned_income.dropna(subset = ['%_low_income_households', '%_below_social_minimum'])"
   ]
  },
  {
   "cell_type": "code",
   "execution_count": 16,
   "metadata": {},
   "outputs": [
    {
     "name": "stdout",
     "output_type": "stream",
     "text": [
      "buurtname                  object\n",
      "%_low_income_households     int32\n",
      "%_below_social_minimum      int32\n",
      "dtype: object\n"
     ]
    },
    {
     "name": "stderr",
     "output_type": "stream",
     "text": [
      "<ipython-input-16-9f1e311e8108>:1: SettingWithCopyWarning: \n",
      "A value is trying to be set on a copy of a slice from a DataFrame.\n",
      "Try using .loc[row_indexer,col_indexer] = value instead\n",
      "\n",
      "See the caveats in the documentation: https://pandas.pydata.org/pandas-docs/stable/user_guide/indexing.html#returning-a-view-versus-a-copy\n",
      "  cleaned_income['%_low_income_households']=cleaned_income['%_low_income_households'].astype(int)\n",
      "<ipython-input-16-9f1e311e8108>:2: SettingWithCopyWarning: \n",
      "A value is trying to be set on a copy of a slice from a DataFrame.\n",
      "Try using .loc[row_indexer,col_indexer] = value instead\n",
      "\n",
      "See the caveats in the documentation: https://pandas.pydata.org/pandas-docs/stable/user_guide/indexing.html#returning-a-view-versus-a-copy\n",
      "  cleaned_income['%_below_social_minimum']=cleaned_income['%_below_social_minimum'].astype(int)\n"
     ]
    }
   ],
   "source": [
    "cleaned_income['%_low_income_households']=cleaned_income['%_low_income_households'].astype(int)\n",
    "cleaned_income['%_below_social_minimum']=cleaned_income['%_below_social_minimum'].astype(int)\n",
    "print(cleaned_income.dtypes)"
   ]
  },
  {
   "cell_type": "code",
   "execution_count": 17,
   "metadata": {},
   "outputs": [
    {
     "name": "stdout",
     "output_type": "stream",
     "text": [
      "buurtname                  object\n",
      "%_low_income_households     int32\n",
      "%_below_social_minimum      int32\n",
      "dtype: object\n"
     ]
    }
   ],
   "source": [
    "print(cleaned_income.dtypes)"
   ]
  },
  {
   "cell_type": "code",
   "execution_count": 19,
   "metadata": {},
   "outputs": [],
   "source": [
    "cleaned_income=cleaned_income.drop_duplicates(subset='buurtname', keep='first', inplace=False, ignore_index=False)"
   ]
  },
  {
   "cell_type": "code",
   "execution_count": 20,
   "metadata": {},
   "outputs": [
    {
     "data": {
      "text/plain": [
       "(8449, 3)"
      ]
     },
     "execution_count": 20,
     "metadata": {},
     "output_type": "execute_result"
    }
   ],
   "source": [
    "cleaned_income.shape"
   ]
  },
  {
   "cell_type": "code",
   "execution_count": 22,
   "metadata": {},
   "outputs": [],
   "source": [
    "cleaned_income.to_csv('cleaned_income.csv', index=False)"
   ]
  }
 ],
 "metadata": {
  "kernelspec": {
   "display_name": "Python 3",
   "language": "python",
   "name": "python3"
  },
  "language_info": {
   "codemirror_mode": {
    "name": "ipython",
    "version": 3
   },
   "file_extension": ".py",
   "mimetype": "text/x-python",
   "name": "python",
   "nbconvert_exporter": "python",
   "pygments_lexer": "ipython3",
   "version": "3.8.3"
  }
 },
 "nbformat": 4,
 "nbformat_minor": 4
}
